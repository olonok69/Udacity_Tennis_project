{
 "cells": [
  {
   "cell_type": "code",
   "execution_count": 1,
   "id": "80aacc7b",
   "metadata": {},
   "outputs": [],
   "source": [
    "import pickle\n",
    "import numpy as np\n",
    "import matplotlib.pyplot as plt"
   ]
  },
  {
   "cell_type": "code",
   "execution_count": 2,
   "id": "48bf3bf4",
   "metadata": {},
   "outputs": [],
   "source": [
    "with open('../../Udacity_Tennis_project/outputs/trials.pickle', 'rb') as handle:\n",
    "            trials = pickle.load(handle)"
   ]
  },
  {
   "cell_type": "code",
   "execution_count": 14,
   "id": "521d9d43",
   "metadata": {},
   "outputs": [
    {
     "name": "stdout",
     "output_type": "stream",
     "text": [
      "10000.0\n",
      "9458.0\n",
      "10000.0\n",
      "8874.0\n",
      "9000.0\n",
      "10000.0\n",
      "10000.0\n",
      "10000.0\n",
      "9181.0\n",
      "10000.0\n",
      "6961.0\n",
      "10000.0\n",
      "8693.0\n",
      "10000.0\n",
      "10000.0\n",
      "10000.0\n",
      "10000.0\n",
      "10000.0\n",
      "8676.0\n",
      "10000.0\n",
      "7217.0\n",
      "6142.0\n",
      "4565.0\n",
      "6936.0\n",
      "10000.0\n",
      "6550.0\n",
      "5342.0\n",
      "10000.0\n",
      "10000.0\n",
      "10000.0\n"
     ]
    }
   ],
   "source": [
    "loss= 1000000\n",
    "key_final=0\n",
    "for key in range(len(trials.trials)):\n",
    "    print(trials.trials[key]['result']['loss'])\n",
    "    if trials.trials[key]['result']['loss'] <loss:\n",
    "        loss=trials.trials[key]['result']['loss']\n",
    "        key_final = key"
   ]
  },
  {
   "cell_type": "code",
   "execution_count": 15,
   "id": "f72bf7ed",
   "metadata": {},
   "outputs": [
    {
     "data": {
      "text/plain": [
       "{'state': 2,\n",
       " 'tid': 22,\n",
       " 'spec': None,\n",
       " 'result': {'loss': 4565.0, 'status': 'ok'},\n",
       " 'misc': {'tid': 22,\n",
       "  'cmd': ('domain_attachment', 'FMinIter_Domain'),\n",
       "  'workdir': None,\n",
       "  'idxs': {'batch_size': [22],\n",
       "   'gamma': [22],\n",
       "   'lr_actor': [22],\n",
       "   'lr_critic': [22]},\n",
       "  'vals': {'batch_size': [2],\n",
       "   'gamma': [0.9008072845147022],\n",
       "   'lr_actor': [0.0010152115817140003],\n",
       "   'lr_critic': [0.0022753185991101154]}},\n",
       " 'exp_key': None,\n",
       " 'owner': None,\n",
       " 'version': 0,\n",
       " 'book_time': datetime.datetime(2022, 2, 27, 21, 53, 19, 918000),\n",
       " 'refresh_time': datetime.datetime(2022, 2, 27, 22, 16, 55, 370000)}"
      ]
     },
     "execution_count": 15,
     "metadata": {},
     "output_type": "execute_result"
    }
   ],
   "source": [
    "trials.trials[key_final]"
   ]
  },
  {
   "cell_type": "code",
   "execution_count": 9,
   "id": "6335db98",
   "metadata": {},
   "outputs": [
    {
     "data": {
      "image/png": "[encoded data removed]",
      "text/plain": [
       "<Figure size 1440x360 with 4 Axes>"
      ]
     },
     "metadata": {
      "needs_background": "light"
     },
     "output_type": "display_data"
    }
   ],
   "source": [
    "parameters = ['gamma', 'lr_actor', 'lr_critic','batch_size']\n",
    "colors =  ['blue', 'red', 'green','black']\n",
    "cols = len(parameters)\n",
    "f, axes = plt.subplots(nrows=1, ncols=cols, figsize=(20,5))\n",
    "cmap = plt.cm.jet\n",
    "\n",
    "for i, val in enumerate(parameters):\n",
    "    xs = np.array([t['misc']['vals'][val] for t in trials.trials]).ravel()\n",
    "    ys = [-t['result']['loss'] for t in trials.trials]\n",
    "    xs, ys = zip(*sorted(zip(xs, ys)))\n",
    "    ys = np.array(ys)\n",
    "    axes[i].scatter(xs, ys, s=20, linewidth=0.01, alpha=0.75, c=colors[i])\n",
    "    axes[i].set_title(val)\n",
    "    axes[i].set_ylabel('Reward')\n"
   ]
  }
 ],
 "metadata": {
  "kernelspec": {
   "display_name": "drlnd",
   "language": "python",
   "name": "drlnd"
  },
  "language_info": {
   "codemirror_mode": {
    "name": "ipython",
    "version": 3
   },
   "file_extension": ".py",
   "mimetype": "text/x-python",
   "name": "python",
   "nbconvert_exporter": "python",
   "pygments_lexer": "ipython3",
   "version": "3.6.13"
  }
 },
 "nbformat": 4,
 "nbformat_minor": 5
}
